{
 "cells": [
  {
   "cell_type": "code",
   "execution_count": 1,
   "metadata": {},
   "outputs": [
    {
     "name": "stderr",
     "output_type": "stream",
     "text": [
      "/Users/user/anaconda3/lib/python3.6/site-packages/h5py/__init__.py:34: FutureWarning: Conversion of the second argument of issubdtype from `float` to `np.floating` is deprecated. In future, it will be treated as `np.float64 == np.dtype(float).type`.\n",
      "  from ._conv import register_converters as _register_converters\n",
      "Using TensorFlow backend.\n"
     ]
    }
   ],
   "source": [
    "import keras \n",
    "import xlrd\n",
    "import numpy as np\n",
    "import pandas as pd\n",
    "from keras.preprocessing.text import Tokenizer\n",
    "from keras.models import Sequential\n",
    "from keras.layers import Dense\n",
    "from keras.preprocessing.sequence import pad_sequences\n",
    "from keras.layers import Input, Dense, Dropout, Embedding, LSTM, Flatten\n",
    "from keras.models import Model\n",
    "from keras.utils import to_categorical\n",
    "from keras.callbacks import ModelCheckpoint\n",
    "from sklearn.model_selection import train_test_split\n",
    "from sklearn.metrics import accuracy_score"
   ]
  },
  {
   "cell_type": "code",
   "execution_count": 2,
   "metadata": {
    "collapsed": true
   },
   "outputs": [],
   "source": [
    "fgs = pd.read_excel('Claim-5.xlsx')"
   ]
  },
  {
   "cell_type": "code",
   "execution_count": 3,
   "metadata": {},
   "outputs": [
    {
     "data": {
      "text/html": [
       "<div>\n",
       "<style>\n",
       "    .dataframe thead tr:only-child th {\n",
       "        text-align: right;\n",
       "    }\n",
       "\n",
       "    .dataframe thead th {\n",
       "        text-align: left;\n",
       "    }\n",
       "\n",
       "    .dataframe tbody tr th {\n",
       "        vertical-align: top;\n",
       "    }\n",
       "</style>\n",
       "<table border=\"1\" class=\"dataframe\">\n",
       "  <thead>\n",
       "    <tr style=\"text-align: right;\">\n",
       "      <th></th>\n",
       "      <th>Claims</th>\n",
       "      <th>Scope</th>\n",
       "    </tr>\n",
       "  </thead>\n",
       "  <tbody>\n",
       "    <tr>\n",
       "      <th>0</th>\n",
       "      <td>1. A system for synchronizing time of arrival ...</td>\n",
       "      <td>UE</td>\n",
       "    </tr>\n",
       "    <tr>\n",
       "      <th>1</th>\n",
       "      <td>4. A system for synchronizing a wireless comm...</td>\n",
       "      <td>UE</td>\n",
       "    </tr>\n",
       "    <tr>\n",
       "      <th>2</th>\n",
       "      <td>10. A system for synchronizing time of arriva...</td>\n",
       "      <td>UE</td>\n",
       "    </tr>\n",
       "    <tr>\n",
       "      <th>3</th>\n",
       "      <td>1. A method of predicting data comprising:  re...</td>\n",
       "      <td>UE</td>\n",
       "    </tr>\n",
       "    <tr>\n",
       "      <th>4</th>\n",
       "      <td>11. A method of providing predicted data, sai...</td>\n",
       "      <td>UE</td>\n",
       "    </tr>\n",
       "  </tbody>\n",
       "</table>\n",
       "</div>"
      ],
      "text/plain": [
       "                                              Claims Scope\n",
       "0  1. A system for synchronizing time of arrival ...    UE\n",
       "1   4. A system for synchronizing a wireless comm...    UE\n",
       "2   10. A system for synchronizing time of arriva...    UE\n",
       "3  1. A method of predicting data comprising:  re...    UE\n",
       "4   11. A method of providing predicted data, sai...    UE"
      ]
     },
     "execution_count": 3,
     "metadata": {},
     "output_type": "execute_result"
    }
   ],
   "source": [
    "fgs.head()"
   ]
  },
  {
   "cell_type": "code",
   "execution_count": 4,
   "metadata": {},
   "outputs": [
    {
     "data": {
      "text/plain": [
       "UE               2316\n",
       "Network          1587\n",
       "UE OR Network     937\n",
       "UE & Network      144\n",
       "Other               4\n",
       "Name: Scope, dtype: int64"
      ]
     },
     "execution_count": 4,
     "metadata": {},
     "output_type": "execute_result"
    }
   ],
   "source": [
    "fgs.Scope.value_counts()"
   ]
  },
  {
   "cell_type": "code",
   "execution_count": 6,
   "metadata": {
    "collapsed": true
   },
   "outputs": [],
   "source": [
    "fgs['target'] = fgs.Scope.astype('category').cat.codes"
   ]
  },
  {
   "cell_type": "code",
   "execution_count": 7,
   "metadata": {},
   "outputs": [],
   "source": [
    "num_class = len(np.unique(fgs.Scope.values))\n",
    "y = fgs['target'].values"
   ]
  },
  {
   "cell_type": "code",
   "execution_count": 8,
   "metadata": {
    "collapsed": true
   },
   "outputs": [],
   "source": [
    "MAX_LENGTH = 500\n",
    "tokenizer = Tokenizer()\n",
    "tokenizer.fit_on_texts(fgs.Claims.values)\n",
    "post_seq = tokenizer.texts_to_sequences(fgs.Claims.values)\n",
    "post_seq_padded = pad_sequences(post_seq, maxlen=MAX_LENGTH)"
   ]
  },
  {
   "cell_type": "code",
   "execution_count": 9,
   "metadata": {
    "collapsed": true
   },
   "outputs": [],
   "source": [
    "X_train, X_test, y_train, y_test = train_test_split(post_seq_padded, y, test_size=0.25)"
   ]
  },
  {
   "cell_type": "code",
   "execution_count": 10,
   "metadata": {
    "collapsed": true
   },
   "outputs": [],
   "source": [
    "vocab_size = len(tokenizer.word_index) + 1"
   ]
  },
  {
   "cell_type": "code",
   "execution_count": 11,
   "metadata": {},
   "outputs": [
    {
     "name": "stdout",
     "output_type": "stream",
     "text": [
      "_________________________________________________________________\n",
      "Layer (type)                 Output Shape              Param #   \n",
      "=================================================================\n",
      "input_1 (InputLayer)         (None, 500)               0         \n",
      "_________________________________________________________________\n",
      "embedding_1 (Embedding)      (None, 500, 128)          509696    \n",
      "_________________________________________________________________\n",
      "flatten_1 (Flatten)          (None, 64000)             0         \n",
      "_________________________________________________________________\n",
      "dense_1 (Dense)              (None, 32)                2048032   \n",
      "_________________________________________________________________\n",
      "dense_2 (Dense)              (None, 5)                 165       \n",
      "=================================================================\n",
      "Total params: 2,557,893\n",
      "Trainable params: 2,557,893\n",
      "Non-trainable params: 0\n",
      "_________________________________________________________________\n",
      "Train on 2805 samples, validate on 936 samples\n",
      "Epoch 1/5\n",
      "2752/2805 [============================>.] - ETA: 0s - loss: 1.1546 - acc: 0.4469\n",
      "Epoch 00001: val_acc improved from -inf to 0.47115, saving model to weights-simple.hdf5\n",
      "2805/2805 [==============================] - 5s 2ms/step - loss: 1.1552 - acc: 0.4460 - val_loss: 1.1206 - val_acc: 0.4712\n",
      "Epoch 2/5\n",
      "2752/2805 [============================>.] - ETA: 0s - loss: 0.8361 - acc: 0.7213\n",
      "Epoch 00002: val_acc improved from 0.47115 to 0.64103, saving model to weights-simple.hdf5\n",
      "2805/2805 [==============================] - 4s 1ms/step - loss: 0.8336 - acc: 0.7219 - val_loss: 0.8969 - val_acc: 0.6410\n",
      "Epoch 3/5\n",
      "2752/2805 [============================>.] - ETA: 0s - loss: 0.4355 - acc: 0.9052\n",
      "Epoch 00003: val_acc improved from 0.64103 to 0.69338, saving model to weights-simple.hdf5\n",
      "2805/2805 [==============================] - 6s 2ms/step - loss: 0.4357 - acc: 0.9048 - val_loss: 0.7515 - val_acc: 0.6934\n",
      "Epoch 4/5\n",
      "2752/2805 [============================>.] - ETA: 0s - loss: 0.1763 - acc: 0.9684\n",
      "Epoch 00004: val_acc improved from 0.69338 to 0.71368, saving model to weights-simple.hdf5\n",
      "2805/2805 [==============================] - 6s 2ms/step - loss: 0.1761 - acc: 0.9686 - val_loss: 0.7221 - val_acc: 0.7137\n",
      "Epoch 5/5\n",
      "2752/2805 [============================>.] - ETA: 0s - loss: 0.0793 - acc: 0.9880\n",
      "Epoch 00005: val_acc improved from 0.71368 to 0.74145, saving model to weights-simple.hdf5\n",
      "2805/2805 [==============================] - 6s 2ms/step - loss: 0.0793 - acc: 0.9879 - val_loss: 0.7344 - val_acc: 0.7415\n"
     ]
    }
   ],
   "source": [
    "\n",
    "inputs = Input(shape=(MAX_LENGTH, ))\n",
    "embedding_layer = Embedding(vocab_size,\n",
    "                            128,\n",
    "                            input_length=MAX_LENGTH)(inputs)\n",
    "x = Flatten()(embedding_layer)\n",
    "x = Dense(32, activation='relu')(x)\n",
    "\n",
    "predictions = Dense(num_class, activation='softmax')(x)\n",
    "model = Model(inputs=[inputs], outputs=predictions)\n",
    "model.compile(optimizer='adam',\n",
    "              loss='categorical_crossentropy',\n",
    "              metrics=['acc'])\n",
    "\n",
    "model.summary()\n",
    "filepath=\"weights-simple.hdf5\"\n",
    "checkpointer = ModelCheckpoint(filepath, monitor='val_acc', verbose=1, save_best_only=True, mode='max')\n",
    "history = model.fit([X_train], batch_size=64, y=to_categorical(y_train), verbose=1, validation_split=0.25, \n",
    "          shuffle=True, epochs=5, callbacks=[checkpointer])"
   ]
  },
  {
   "cell_type": "code",
   "execution_count": 13,
   "metadata": {},
   "outputs": [
    {
     "data": {
      "text/plain": [
       "0.7193263833199679"
      ]
     },
     "execution_count": 13,
     "metadata": {},
     "output_type": "execute_result"
    }
   ],
   "source": [
    "predicted = model.predict(X_test)\n",
    "predicted = np.argmax(predicted, axis=1)\n",
    "accuracy_score(y_test, predicted)"
   ]
  },
  {
   "cell_type": "code",
   "execution_count": 14,
   "metadata": {},
   "outputs": [
    {
     "name": "stdout",
     "output_type": "stream",
     "text": [
      "_________________________________________________________________\n",
      "Layer (type)                 Output Shape              Param #   \n",
      "=================================================================\n",
      "input_1 (InputLayer)         (None, 500)               0         \n",
      "_________________________________________________________________\n",
      "embedding_2 (Embedding)      (None, 500, 128)          509696    \n",
      "_________________________________________________________________\n",
      "lstm_1 (LSTM)                (None, 64)                49408     \n",
      "_________________________________________________________________\n",
      "dense_3 (Dense)              (None, 32)                2080      \n",
      "_________________________________________________________________\n",
      "dense_4 (Dense)              (None, 5)                 165       \n",
      "=================================================================\n",
      "Total params: 561,349\n",
      "Trainable params: 561,349\n",
      "Non-trainable params: 0\n",
      "_________________________________________________________________\n"
     ]
    }
   ],
   "source": [
    "\n",
    "inputss = Input(shape=(MAX_LENGTH, ))\n",
    "embedding_layer = Embedding(vocab_size,\n",
    "                            128,\n",
    "                            input_length=MAX_LENGTH)(inputs)\n",
    "\n",
    "x = LSTM(64)(embedding_layer)\n",
    "x = Dense(32, activation='relu')(x)\n",
    "predictions = Dense(num_class, activation='softmax')(x)\n",
    "model = Model(inputs=[inputs], outputs=predictions)\n",
    "model.compile(optimizer='adam',\n",
    "              loss='categorical_crossentropy',\n",
    "              metrics=['acc'])\n",
    "\n",
    "model.summary()"
   ]
  },
  {
   "cell_type": "code",
   "execution_count": 15,
   "metadata": {},
   "outputs": [
    {
     "name": "stdout",
     "output_type": "stream",
     "text": [
      "Train on 2805 samples, validate on 936 samples\n",
      "Epoch 1/10\n",
      "2752/2805 [============================>.] - ETA: 1s - loss: 1.3111 - acc: 0.4520\n",
      "Epoch 00001: val_acc improved from -inf to 0.47009, saving model to weights.hdf5\n",
      "2805/2805 [==============================] - 79s 28ms/step - loss: 1.3093 - acc: 0.4517 - val_loss: 1.1554 - val_acc: 0.4701\n",
      "Epoch 2/10\n",
      "2752/2805 [============================>.] - ETA: 1s - loss: 1.0657 - acc: 0.5004\n",
      "Epoch 00002: val_acc improved from 0.47009 to 0.56731, saving model to weights.hdf5\n",
      "2805/2805 [==============================] - 73s 26ms/step - loss: 1.0657 - acc: 0.5020 - val_loss: 1.0192 - val_acc: 0.5673\n",
      "Epoch 3/10\n",
      "2752/2805 [============================>.] - ETA: 1s - loss: 0.8381 - acc: 0.6526\n",
      "Epoch 00003: val_acc improved from 0.56731 to 0.61966, saving model to weights.hdf5\n",
      "2805/2805 [==============================] - 63s 23ms/step - loss: 0.8372 - acc: 0.6535 - val_loss: 0.9279 - val_acc: 0.6197\n",
      "Epoch 4/10\n",
      "2752/2805 [============================>.] - ETA: 1s - loss: 0.6618 - acc: 0.7547\n",
      "Epoch 00004: val_acc improved from 0.61966 to 0.66239, saving model to weights.hdf5\n",
      "2805/2805 [==============================] - 74s 27ms/step - loss: 0.6609 - acc: 0.7547 - val_loss: 0.8684 - val_acc: 0.6624\n",
      "Epoch 5/10\n",
      "2752/2805 [============================>.] - ETA: 1s - loss: 0.5234 - acc: 0.8194\n",
      "Epoch 00005: val_acc improved from 0.66239 to 0.67735, saving model to weights.hdf5\n",
      "2805/2805 [==============================] - 73s 26ms/step - loss: 0.5253 - acc: 0.8178 - val_loss: 0.8085 - val_acc: 0.6774\n",
      "Epoch 6/10\n",
      "2752/2805 [============================>.] - ETA: 1s - loss: 0.4281 - acc: 0.8474\n",
      "Epoch 00006: val_acc improved from 0.67735 to 0.71474, saving model to weights.hdf5\n",
      "2805/2805 [==============================] - 74s 26ms/step - loss: 0.4280 - acc: 0.8471 - val_loss: 0.8029 - val_acc: 0.7147\n",
      "Epoch 7/10\n",
      "2752/2805 [============================>.] - ETA: 1s - loss: 0.3827 - acc: 0.8681\n",
      "Epoch 00007: val_acc improved from 0.71474 to 0.76603, saving model to weights.hdf5\n",
      "2805/2805 [==============================] - 76s 27ms/step - loss: 0.3830 - acc: 0.8674 - val_loss: 0.7934 - val_acc: 0.7660\n",
      "Epoch 8/10\n",
      "2752/2805 [============================>.] - ETA: 1s - loss: 0.2944 - acc: 0.9037\n",
      "Epoch 00008: val_acc improved from 0.76603 to 0.77778, saving model to weights.hdf5\n",
      "2805/2805 [==============================] - 78s 28ms/step - loss: 0.2933 - acc: 0.9034 - val_loss: 0.7647 - val_acc: 0.7778\n",
      "Epoch 9/10\n",
      "2752/2805 [============================>.] - ETA: 1s - loss: 0.2504 - acc: 0.9193\n",
      "Epoch 00009: val_acc did not improve\n",
      "2805/2805 [==============================] - 75s 27ms/step - loss: 0.2520 - acc: 0.9180 - val_loss: 0.8090 - val_acc: 0.7372\n",
      "Epoch 10/10\n",
      "2752/2805 [============================>.] - ETA: 1s - loss: 0.2344 - acc: 0.9211\n",
      "Epoch 00010: val_acc did not improve\n",
      "2805/2805 [==============================] - 71s 25ms/step - loss: 0.2340 - acc: 0.9212 - val_loss: 0.7929 - val_acc: 0.7692\n"
     ]
    }
   ],
   "source": [
    "filepath=\"weights.hdf5\"\n",
    "checkpointer = ModelCheckpoint(filepath, monitor='val_acc', verbose=1, save_best_only=True, mode='max')\n",
    "history = model.fit([X_train], batch_size=64, y=to_categorical(y_train), verbose=1, validation_split=0.25, \n",
    "          shuffle=True, epochs=10, callbacks=[checkpointer])"
   ]
  },
  {
   "cell_type": "code",
   "execution_count": 62,
   "metadata": {},
   "outputs": [
    {
     "data": {
      "text/plain": [
       "0.7746591820368885"
      ]
     },
     "execution_count": 62,
     "metadata": {},
     "output_type": "execute_result"
    }
   ],
   "source": [
    "predicted = model.predict(X_test)\n",
    "predicted = np.argmax(predicted, axis=1)\n",
    "accuracy_score(y_test, predicted)"
   ]
  },
  {
   "cell_type": "code",
   "execution_count": null,
   "metadata": {
    "collapsed": true
   },
   "outputs": [],
   "source": []
  }
 ],
 "metadata": {
  "kernelspec": {
   "display_name": "Python 3",
   "language": "python",
   "name": "python3"
  },
  "language_info": {
   "codemirror_mode": {
    "name": "ipython",
    "version": 3
   },
   "file_extension": ".py",
   "mimetype": "text/x-python",
   "name": "python",
   "nbconvert_exporter": "python",
   "pygments_lexer": "ipython3",
   "version": "3.6.3"
  }
 },
 "nbformat": 4,
 "nbformat_minor": 2
}
